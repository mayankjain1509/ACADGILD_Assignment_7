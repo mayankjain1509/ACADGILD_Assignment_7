{
 "cells": [
  {
   "cell_type": "markdown",
   "metadata": {},
   "source": [
    "# Assignment No 7 (Task 1 and Task 2)"
   ]
  },
  {
   "cell_type": "markdown",
   "metadata": {},
   "source": [
    "# Task 1"
   ]
  },
  {
   "cell_type": "markdown",
   "metadata": {},
   "source": [
    "Read the following data set:\n",
    "https://archive.ics.uci.edu/ml/machine-learning-databases/adult/\n",
    "    \n",
    "Rename the columns as per the description from this file:\n",
    "https://archive.ics.uci.edu/ml/machine-learning-databases/adult/adult.names"
   ]
  },
  {
   "cell_type": "code",
   "execution_count": 23,
   "metadata": {},
   "outputs": [],
   "source": [
    "# Question No 1\n",
    "# Create a sql db from adult dataset and name it sqladb\n",
    "# 1. Select 10 records from the adult sqladb"
   ]
  },
  {
   "cell_type": "code",
   "execution_count": 24,
   "metadata": {},
   "outputs": [
    {
     "data": {
      "text/plain": [
       "pandas.core.frame.DataFrame"
      ]
     },
     "execution_count": 24,
     "metadata": {},
     "output_type": "execute_result"
    }
   ],
   "source": [
    "import pandas as pd\n",
    "dataSet = pd.read_csv(\"https://archive.ics.uci.edu/ml/machine-learning-databases/adult/adult.data\",header=None)\n",
    "type(dataSet)"
   ]
  },
  {
   "cell_type": "code",
   "execution_count": 25,
   "metadata": {},
   "outputs": [],
   "source": [
    "dataSet.columns = ['age', 'workclass','fnlwgt','education','education_num','marital_status','occupation','relationship'\n",
    "              ,'race','sex','capital_gain','capital_loss','hours_per_week','native_country','salary']\n",
    "dataSet.head()\n",
    "dataSet['sex'] = dataSet['sex'].str.lstrip() # sremoveing extra spaces from left side \n",
    "dataSet['workclass'] = dataSet['workclass'].str.lstrip() "
   ]
  },
  {
   "cell_type": "code",
   "execution_count": 26,
   "metadata": {},
   "outputs": [],
   "source": [
    "import sqlite3\n",
    "connection = sqlite3.connect('sqladb') # Created Database as per guidlines\n",
    "cursor = connection.cursor() # Cursor to perform task over database"
   ]
  },
  {
   "cell_type": "code",
   "execution_count": 27,
   "metadata": {},
   "outputs": [],
   "source": [
    "dataSet.to_sql('adultData',connection)"
   ]
  },
  {
   "cell_type": "code",
   "execution_count": 28,
   "metadata": {},
   "outputs": [
    {
     "data": {
      "text/html": [
       "<div>\n",
       "<style scoped>\n",
       "    .dataframe tbody tr th:only-of-type {\n",
       "        vertical-align: middle;\n",
       "    }\n",
       "\n",
       "    .dataframe tbody tr th {\n",
       "        vertical-align: top;\n",
       "    }\n",
       "\n",
       "    .dataframe thead th {\n",
       "        text-align: right;\n",
       "    }\n",
       "</style>\n",
       "<table border=\"1\" class=\"dataframe\">\n",
       "  <thead>\n",
       "    <tr style=\"text-align: right;\">\n",
       "      <th></th>\n",
       "      <th>index</th>\n",
       "      <th>age</th>\n",
       "      <th>workclass</th>\n",
       "      <th>fnlwgt</th>\n",
       "      <th>education</th>\n",
       "      <th>education_num</th>\n",
       "      <th>marital_status</th>\n",
       "      <th>occupation</th>\n",
       "      <th>relationship</th>\n",
       "      <th>race</th>\n",
       "      <th>sex</th>\n",
       "      <th>capital_gain</th>\n",
       "      <th>capital_loss</th>\n",
       "      <th>hours_per_week</th>\n",
       "      <th>native_country</th>\n",
       "      <th>salary</th>\n",
       "    </tr>\n",
       "  </thead>\n",
       "  <tbody>\n",
       "    <tr>\n",
       "      <th>0</th>\n",
       "      <td>0</td>\n",
       "      <td>39</td>\n",
       "      <td>State-gov</td>\n",
       "      <td>77516</td>\n",
       "      <td>Bachelors</td>\n",
       "      <td>13</td>\n",
       "      <td>Never-married</td>\n",
       "      <td>Adm-clerical</td>\n",
       "      <td>Not-in-family</td>\n",
       "      <td>White</td>\n",
       "      <td>Male</td>\n",
       "      <td>2174</td>\n",
       "      <td>0</td>\n",
       "      <td>40</td>\n",
       "      <td>United-States</td>\n",
       "      <td>&lt;=50K</td>\n",
       "    </tr>\n",
       "    <tr>\n",
       "      <th>1</th>\n",
       "      <td>1</td>\n",
       "      <td>50</td>\n",
       "      <td>Self-emp-not-inc</td>\n",
       "      <td>83311</td>\n",
       "      <td>Bachelors</td>\n",
       "      <td>13</td>\n",
       "      <td>Married-civ-spouse</td>\n",
       "      <td>Exec-managerial</td>\n",
       "      <td>Husband</td>\n",
       "      <td>White</td>\n",
       "      <td>Male</td>\n",
       "      <td>0</td>\n",
       "      <td>0</td>\n",
       "      <td>13</td>\n",
       "      <td>United-States</td>\n",
       "      <td>&lt;=50K</td>\n",
       "    </tr>\n",
       "    <tr>\n",
       "      <th>2</th>\n",
       "      <td>2</td>\n",
       "      <td>38</td>\n",
       "      <td>Private</td>\n",
       "      <td>215646</td>\n",
       "      <td>HS-grad</td>\n",
       "      <td>9</td>\n",
       "      <td>Divorced</td>\n",
       "      <td>Handlers-cleaners</td>\n",
       "      <td>Not-in-family</td>\n",
       "      <td>White</td>\n",
       "      <td>Male</td>\n",
       "      <td>0</td>\n",
       "      <td>0</td>\n",
       "      <td>40</td>\n",
       "      <td>United-States</td>\n",
       "      <td>&lt;=50K</td>\n",
       "    </tr>\n",
       "    <tr>\n",
       "      <th>3</th>\n",
       "      <td>3</td>\n",
       "      <td>53</td>\n",
       "      <td>Private</td>\n",
       "      <td>234721</td>\n",
       "      <td>11th</td>\n",
       "      <td>7</td>\n",
       "      <td>Married-civ-spouse</td>\n",
       "      <td>Handlers-cleaners</td>\n",
       "      <td>Husband</td>\n",
       "      <td>Black</td>\n",
       "      <td>Male</td>\n",
       "      <td>0</td>\n",
       "      <td>0</td>\n",
       "      <td>40</td>\n",
       "      <td>United-States</td>\n",
       "      <td>&lt;=50K</td>\n",
       "    </tr>\n",
       "    <tr>\n",
       "      <th>4</th>\n",
       "      <td>4</td>\n",
       "      <td>28</td>\n",
       "      <td>Private</td>\n",
       "      <td>338409</td>\n",
       "      <td>Bachelors</td>\n",
       "      <td>13</td>\n",
       "      <td>Married-civ-spouse</td>\n",
       "      <td>Prof-specialty</td>\n",
       "      <td>Wife</td>\n",
       "      <td>Black</td>\n",
       "      <td>Female</td>\n",
       "      <td>0</td>\n",
       "      <td>0</td>\n",
       "      <td>40</td>\n",
       "      <td>Cuba</td>\n",
       "      <td>&lt;=50K</td>\n",
       "    </tr>\n",
       "    <tr>\n",
       "      <th>5</th>\n",
       "      <td>5</td>\n",
       "      <td>37</td>\n",
       "      <td>Private</td>\n",
       "      <td>284582</td>\n",
       "      <td>Masters</td>\n",
       "      <td>14</td>\n",
       "      <td>Married-civ-spouse</td>\n",
       "      <td>Exec-managerial</td>\n",
       "      <td>Wife</td>\n",
       "      <td>White</td>\n",
       "      <td>Female</td>\n",
       "      <td>0</td>\n",
       "      <td>0</td>\n",
       "      <td>40</td>\n",
       "      <td>United-States</td>\n",
       "      <td>&lt;=50K</td>\n",
       "    </tr>\n",
       "    <tr>\n",
       "      <th>6</th>\n",
       "      <td>6</td>\n",
       "      <td>49</td>\n",
       "      <td>Private</td>\n",
       "      <td>160187</td>\n",
       "      <td>9th</td>\n",
       "      <td>5</td>\n",
       "      <td>Married-spouse-absent</td>\n",
       "      <td>Other-service</td>\n",
       "      <td>Not-in-family</td>\n",
       "      <td>Black</td>\n",
       "      <td>Female</td>\n",
       "      <td>0</td>\n",
       "      <td>0</td>\n",
       "      <td>16</td>\n",
       "      <td>Jamaica</td>\n",
       "      <td>&lt;=50K</td>\n",
       "    </tr>\n",
       "    <tr>\n",
       "      <th>7</th>\n",
       "      <td>7</td>\n",
       "      <td>52</td>\n",
       "      <td>Self-emp-not-inc</td>\n",
       "      <td>209642</td>\n",
       "      <td>HS-grad</td>\n",
       "      <td>9</td>\n",
       "      <td>Married-civ-spouse</td>\n",
       "      <td>Exec-managerial</td>\n",
       "      <td>Husband</td>\n",
       "      <td>White</td>\n",
       "      <td>Male</td>\n",
       "      <td>0</td>\n",
       "      <td>0</td>\n",
       "      <td>45</td>\n",
       "      <td>United-States</td>\n",
       "      <td>&gt;50K</td>\n",
       "    </tr>\n",
       "    <tr>\n",
       "      <th>8</th>\n",
       "      <td>8</td>\n",
       "      <td>31</td>\n",
       "      <td>Private</td>\n",
       "      <td>45781</td>\n",
       "      <td>Masters</td>\n",
       "      <td>14</td>\n",
       "      <td>Never-married</td>\n",
       "      <td>Prof-specialty</td>\n",
       "      <td>Not-in-family</td>\n",
       "      <td>White</td>\n",
       "      <td>Female</td>\n",
       "      <td>14084</td>\n",
       "      <td>0</td>\n",
       "      <td>50</td>\n",
       "      <td>United-States</td>\n",
       "      <td>&gt;50K</td>\n",
       "    </tr>\n",
       "    <tr>\n",
       "      <th>9</th>\n",
       "      <td>9</td>\n",
       "      <td>42</td>\n",
       "      <td>Private</td>\n",
       "      <td>159449</td>\n",
       "      <td>Bachelors</td>\n",
       "      <td>13</td>\n",
       "      <td>Married-civ-spouse</td>\n",
       "      <td>Exec-managerial</td>\n",
       "      <td>Husband</td>\n",
       "      <td>White</td>\n",
       "      <td>Male</td>\n",
       "      <td>5178</td>\n",
       "      <td>0</td>\n",
       "      <td>40</td>\n",
       "      <td>United-States</td>\n",
       "      <td>&gt;50K</td>\n",
       "    </tr>\n",
       "  </tbody>\n",
       "</table>\n",
       "</div>"
      ],
      "text/plain": [
       "   index  age         workclass  fnlwgt   education  education_num  \\\n",
       "0      0   39         State-gov   77516   Bachelors             13   \n",
       "1      1   50  Self-emp-not-inc   83311   Bachelors             13   \n",
       "2      2   38           Private  215646     HS-grad              9   \n",
       "3      3   53           Private  234721        11th              7   \n",
       "4      4   28           Private  338409   Bachelors             13   \n",
       "5      5   37           Private  284582     Masters             14   \n",
       "6      6   49           Private  160187         9th              5   \n",
       "7      7   52  Self-emp-not-inc  209642     HS-grad              9   \n",
       "8      8   31           Private   45781     Masters             14   \n",
       "9      9   42           Private  159449   Bachelors             13   \n",
       "\n",
       "           marital_status          occupation    relationship    race     sex  \\\n",
       "0           Never-married        Adm-clerical   Not-in-family   White    Male   \n",
       "1      Married-civ-spouse     Exec-managerial         Husband   White    Male   \n",
       "2                Divorced   Handlers-cleaners   Not-in-family   White    Male   \n",
       "3      Married-civ-spouse   Handlers-cleaners         Husband   Black    Male   \n",
       "4      Married-civ-spouse      Prof-specialty            Wife   Black  Female   \n",
       "5      Married-civ-spouse     Exec-managerial            Wife   White  Female   \n",
       "6   Married-spouse-absent       Other-service   Not-in-family   Black  Female   \n",
       "7      Married-civ-spouse     Exec-managerial         Husband   White    Male   \n",
       "8           Never-married      Prof-specialty   Not-in-family   White  Female   \n",
       "9      Married-civ-spouse     Exec-managerial         Husband   White    Male   \n",
       "\n",
       "   capital_gain  capital_loss  hours_per_week  native_country  salary  \n",
       "0          2174             0              40   United-States   <=50K  \n",
       "1             0             0              13   United-States   <=50K  \n",
       "2             0             0              40   United-States   <=50K  \n",
       "3             0             0              40   United-States   <=50K  \n",
       "4             0             0              40            Cuba   <=50K  \n",
       "5             0             0              40   United-States   <=50K  \n",
       "6             0             0              16         Jamaica   <=50K  \n",
       "7             0             0              45   United-States    >50K  \n",
       "8         14084             0              50   United-States    >50K  \n",
       "9          5178             0              40   United-States    >50K  "
      ]
     },
     "execution_count": 28,
     "metadata": {},
     "output_type": "execute_result"
    }
   ],
   "source": [
    "q = \"\"\"SELECT * FROM adultData LIMIT 10;\"\"\"\n",
    "pd.read_sql(q, connection) # Fetching First Ten Records"
   ]
  },
  {
   "cell_type": "code",
   "execution_count": null,
   "metadata": {},
   "outputs": [],
   "source": [
    "# Question No 2\n",
    "# 2. Show me the average hours per week of all men who are working in private sector"
   ]
  },
  {
   "cell_type": "code",
   "execution_count": 29,
   "metadata": {},
   "outputs": [
    {
     "data": {
      "text/html": [
       "<div>\n",
       "<style scoped>\n",
       "    .dataframe tbody tr th:only-of-type {\n",
       "        vertical-align: middle;\n",
       "    }\n",
       "\n",
       "    .dataframe tbody tr th {\n",
       "        vertical-align: top;\n",
       "    }\n",
       "\n",
       "    .dataframe thead th {\n",
       "        text-align: right;\n",
       "    }\n",
       "</style>\n",
       "<table border=\"1\" class=\"dataframe\">\n",
       "  <thead>\n",
       "    <tr style=\"text-align: right;\">\n",
       "      <th></th>\n",
       "      <th>Average</th>\n",
       "    </tr>\n",
       "  </thead>\n",
       "  <tbody>\n",
       "    <tr>\n",
       "      <th>0</th>\n",
       "      <td>42.221226</td>\n",
       "    </tr>\n",
       "  </tbody>\n",
       "</table>\n",
       "</div>"
      ],
      "text/plain": [
       "     Average\n",
       "0  42.221226"
      ]
     },
     "execution_count": 29,
     "metadata": {},
     "output_type": "execute_result"
    }
   ],
   "source": [
    "q = \"\"\"SELECT avg(hours_per_week) Average FROM adultData where sex='Male' and workclass='Private'\"\"\"\n",
    "pd.read_sql(q, connection) # Avergae working hours of Private Sector Men\n"
   ]
  },
  {
   "cell_type": "code",
   "execution_count": null,
   "metadata": {},
   "outputs": [],
   "source": [
    "# Question No 3\n",
    "# 3. Show me the frequency table for education, occupation and relationship, separately"
   ]
  },
  {
   "cell_type": "code",
   "execution_count": null,
   "metadata": {},
   "outputs": [],
   "source": [
    "q = \"\"\"\n",
    "        create table frequency(\n",
    "        education varchar(50), \n",
    "        occupation varchar(50),\n",
    "        relationship varchar(50)\n",
    "        );\n",
    "    \"\"\"\n",
    "pd.read_sql(q, connection)\n",
    "# Created Seprtate table\n"
   ]
  },
  {
   "cell_type": "code",
   "execution_count": 35,
   "metadata": {},
   "outputs": [],
   "source": [
    "q=\"\"\"select * from frequency\"\"\"\n",
    "data= pd.read_sql(q,connection)"
   ]
  },
  {
   "cell_type": "code",
   "execution_count": 36,
   "metadata": {},
   "outputs": [
    {
     "data": {
      "text/html": [
       "<div>\n",
       "<style scoped>\n",
       "    .dataframe tbody tr th:only-of-type {\n",
       "        vertical-align: middle;\n",
       "    }\n",
       "\n",
       "    .dataframe tbody tr th {\n",
       "        vertical-align: top;\n",
       "    }\n",
       "\n",
       "    .dataframe thead th {\n",
       "        text-align: right;\n",
       "    }\n",
       "</style>\n",
       "<table border=\"1\" class=\"dataframe\">\n",
       "  <thead>\n",
       "    <tr style=\"text-align: right;\">\n",
       "      <th></th>\n",
       "      <th>education</th>\n",
       "      <th>occupation</th>\n",
       "      <th>relationship</th>\n",
       "    </tr>\n",
       "  </thead>\n",
       "  <tbody>\n",
       "    <tr>\n",
       "      <th>0</th>\n",
       "      <td>Bachelors</td>\n",
       "      <td>Adm-clerical</td>\n",
       "      <td>Not-in-family</td>\n",
       "    </tr>\n",
       "    <tr>\n",
       "      <th>1</th>\n",
       "      <td>Bachelors</td>\n",
       "      <td>Exec-managerial</td>\n",
       "      <td>Husband</td>\n",
       "    </tr>\n",
       "    <tr>\n",
       "      <th>2</th>\n",
       "      <td>HS-grad</td>\n",
       "      <td>Handlers-cleaners</td>\n",
       "      <td>Not-in-family</td>\n",
       "    </tr>\n",
       "    <tr>\n",
       "      <th>3</th>\n",
       "      <td>11th</td>\n",
       "      <td>Handlers-cleaners</td>\n",
       "      <td>Husband</td>\n",
       "    </tr>\n",
       "    <tr>\n",
       "      <th>4</th>\n",
       "      <td>Bachelors</td>\n",
       "      <td>Prof-specialty</td>\n",
       "      <td>Wife</td>\n",
       "    </tr>\n",
       "  </tbody>\n",
       "</table>\n",
       "</div>"
      ],
      "text/plain": [
       "    education          occupation    relationship\n",
       "0   Bachelors        Adm-clerical   Not-in-family\n",
       "1   Bachelors     Exec-managerial         Husband\n",
       "2     HS-grad   Handlers-cleaners   Not-in-family\n",
       "3        11th   Handlers-cleaners         Husband\n",
       "4   Bachelors      Prof-specialty            Wife"
      ]
     },
     "execution_count": 36,
     "metadata": {},
     "output_type": "execute_result"
    }
   ],
   "source": [
    "q = \"\"\"SELECT education, occupation, relationship FROM adultData \"\"\"\n",
    "\n",
    "data_= pd.read_sql(q,connection)\n",
    "data_.head()"
   ]
  },
  {
   "cell_type": "code",
   "execution_count": 37,
   "metadata": {},
   "outputs": [],
   "source": [
    "# Question No 4\n",
    "# 4. Are there any people who are married, working in private sector and having a masters degree"
   ]
  },
  {
   "cell_type": "code",
   "execution_count": 38,
   "metadata": {},
   "outputs": [],
   "source": [
    "#dataSet['marital_status'] = dataSet['marital_status'].str.lstrip()\n",
    "#dataSet['education'] = dataSet['education'].str.lstrip()"
   ]
  },
  {
   "cell_type": "code",
   "execution_count": 39,
   "metadata": {},
   "outputs": [
    {
     "data": {
      "text/html": [
       "<div>\n",
       "<style scoped>\n",
       "    .dataframe tbody tr th:only-of-type {\n",
       "        vertical-align: middle;\n",
       "    }\n",
       "\n",
       "    .dataframe tbody tr th {\n",
       "        vertical-align: top;\n",
       "    }\n",
       "\n",
       "    .dataframe thead th {\n",
       "        text-align: right;\n",
       "    }\n",
       "</style>\n",
       "<table border=\"1\" class=\"dataframe\">\n",
       "  <thead>\n",
       "    <tr style=\"text-align: right;\">\n",
       "      <th></th>\n",
       "      <th>education</th>\n",
       "      <th>occupation</th>\n",
       "      <th>relationship</th>\n",
       "    </tr>\n",
       "  </thead>\n",
       "  <tbody>\n",
       "    <tr>\n",
       "      <th>0</th>\n",
       "      <td>Bachelors</td>\n",
       "      <td>Adm-clerical</td>\n",
       "      <td>Not-in-family</td>\n",
       "    </tr>\n",
       "    <tr>\n",
       "      <th>1</th>\n",
       "      <td>Bachelors</td>\n",
       "      <td>Exec-managerial</td>\n",
       "      <td>Husband</td>\n",
       "    </tr>\n",
       "    <tr>\n",
       "      <th>2</th>\n",
       "      <td>HS-grad</td>\n",
       "      <td>Handlers-cleaners</td>\n",
       "      <td>Not-in-family</td>\n",
       "    </tr>\n",
       "    <tr>\n",
       "      <th>3</th>\n",
       "      <td>11th</td>\n",
       "      <td>Handlers-cleaners</td>\n",
       "      <td>Husband</td>\n",
       "    </tr>\n",
       "    <tr>\n",
       "      <th>4</th>\n",
       "      <td>Bachelors</td>\n",
       "      <td>Prof-specialty</td>\n",
       "      <td>Wife</td>\n",
       "    </tr>\n",
       "  </tbody>\n",
       "</table>\n",
       "</div>"
      ],
      "text/plain": [
       "    education          occupation    relationship\n",
       "0   Bachelors        Adm-clerical   Not-in-family\n",
       "1   Bachelors     Exec-managerial         Husband\n",
       "2     HS-grad   Handlers-cleaners   Not-in-family\n",
       "3        11th   Handlers-cleaners         Husband\n",
       "4   Bachelors      Prof-specialty            Wife"
      ]
     },
     "execution_count": 39,
     "metadata": {},
     "output_type": "execute_result"
    }
   ],
   "source": [
    "import sqlite3\n",
    "from pandas.io import sql\n",
    "query=''' insert or replace into frequency (education, occupation, relationship) values (?,?,?) '''\n",
    "connection.executemany(query, data_.to_records(index=False))\n",
    "q_updated_r =\"\"\"select * from frequency\"\"\"\n",
    "Data_update = pd.read_sql(q_updated_r,connection)\n",
    "Data_update.head()"
   ]
  },
  {
   "cell_type": "code",
   "execution_count": 40,
   "metadata": {},
   "outputs": [
    {
     "data": {
      "text/html": [
       "<div>\n",
       "<style scoped>\n",
       "    .dataframe tbody tr th:only-of-type {\n",
       "        vertical-align: middle;\n",
       "    }\n",
       "\n",
       "    .dataframe tbody tr th {\n",
       "        vertical-align: top;\n",
       "    }\n",
       "\n",
       "    .dataframe thead th {\n",
       "        text-align: right;\n",
       "    }\n",
       "</style>\n",
       "<table border=\"1\" class=\"dataframe\">\n",
       "  <thead>\n",
       "    <tr style=\"text-align: right;\">\n",
       "      <th></th>\n",
       "      <th>Result</th>\n",
       "    </tr>\n",
       "  </thead>\n",
       "  <tbody>\n",
       "    <tr>\n",
       "      <th>0</th>\n",
       "      <td>894</td>\n",
       "    </tr>\n",
       "  </tbody>\n",
       "</table>\n",
       "</div>"
      ],
      "text/plain": [
       "   Result\n",
       "0     894"
      ]
     },
     "execution_count": 40,
     "metadata": {},
     "output_type": "execute_result"
    }
   ],
   "source": [
    "q=\"\"\"\n",
    "    select count(*) Result from adultData \n",
    "    where \n",
    "    (marital_status <>'Never-married' or marital_status <> 'Divorced') and workclass='Private' and education=' Masters'\n",
    "    \"\"\"\n",
    "pd.read_sql(q, connection)"
   ]
  },
  {
   "cell_type": "code",
   "execution_count": 15,
   "metadata": {},
   "outputs": [],
   "source": [
    "# Question No 5\n",
    "# 5. What is the average, minimum and maximum age group for people working in different sectors"
   ]
  },
  {
   "cell_type": "code",
   "execution_count": 41,
   "metadata": {},
   "outputs": [
    {
     "data": {
      "text/html": [
       "<div>\n",
       "<style scoped>\n",
       "    .dataframe tbody tr th:only-of-type {\n",
       "        vertical-align: middle;\n",
       "    }\n",
       "\n",
       "    .dataframe tbody tr th {\n",
       "        vertical-align: top;\n",
       "    }\n",
       "\n",
       "    .dataframe thead th {\n",
       "        text-align: right;\n",
       "    }\n",
       "</style>\n",
       "<table border=\"1\" class=\"dataframe\">\n",
       "  <thead>\n",
       "    <tr style=\"text-align: right;\">\n",
       "      <th></th>\n",
       "      <th>workclass</th>\n",
       "      <th>Avg</th>\n",
       "      <th>Min</th>\n",
       "      <th>max</th>\n",
       "    </tr>\n",
       "  </thead>\n",
       "  <tbody>\n",
       "    <tr>\n",
       "      <th>0</th>\n",
       "      <td>?</td>\n",
       "      <td>40.960240</td>\n",
       "      <td>17</td>\n",
       "      <td>90</td>\n",
       "    </tr>\n",
       "    <tr>\n",
       "      <th>1</th>\n",
       "      <td>Federal-gov</td>\n",
       "      <td>42.590625</td>\n",
       "      <td>17</td>\n",
       "      <td>90</td>\n",
       "    </tr>\n",
       "    <tr>\n",
       "      <th>2</th>\n",
       "      <td>Local-gov</td>\n",
       "      <td>41.751075</td>\n",
       "      <td>17</td>\n",
       "      <td>90</td>\n",
       "    </tr>\n",
       "    <tr>\n",
       "      <th>3</th>\n",
       "      <td>Never-worked</td>\n",
       "      <td>20.571429</td>\n",
       "      <td>17</td>\n",
       "      <td>30</td>\n",
       "    </tr>\n",
       "    <tr>\n",
       "      <th>4</th>\n",
       "      <td>Private</td>\n",
       "      <td>36.797585</td>\n",
       "      <td>17</td>\n",
       "      <td>90</td>\n",
       "    </tr>\n",
       "    <tr>\n",
       "      <th>5</th>\n",
       "      <td>Self-emp-inc</td>\n",
       "      <td>46.017025</td>\n",
       "      <td>17</td>\n",
       "      <td>84</td>\n",
       "    </tr>\n",
       "    <tr>\n",
       "      <th>6</th>\n",
       "      <td>Self-emp-not-inc</td>\n",
       "      <td>44.969697</td>\n",
       "      <td>17</td>\n",
       "      <td>90</td>\n",
       "    </tr>\n",
       "    <tr>\n",
       "      <th>7</th>\n",
       "      <td>State-gov</td>\n",
       "      <td>39.436055</td>\n",
       "      <td>17</td>\n",
       "      <td>81</td>\n",
       "    </tr>\n",
       "    <tr>\n",
       "      <th>8</th>\n",
       "      <td>Without-pay</td>\n",
       "      <td>47.785714</td>\n",
       "      <td>19</td>\n",
       "      <td>72</td>\n",
       "    </tr>\n",
       "  </tbody>\n",
       "</table>\n",
       "</div>"
      ],
      "text/plain": [
       "          workclass        Avg  Min  max\n",
       "0                 ?  40.960240   17   90\n",
       "1       Federal-gov  42.590625   17   90\n",
       "2         Local-gov  41.751075   17   90\n",
       "3      Never-worked  20.571429   17   30\n",
       "4           Private  36.797585   17   90\n",
       "5      Self-emp-inc  46.017025   17   84\n",
       "6  Self-emp-not-inc  44.969697   17   90\n",
       "7         State-gov  39.436055   17   81\n",
       "8       Without-pay  47.785714   19   72"
      ]
     },
     "execution_count": 41,
     "metadata": {},
     "output_type": "execute_result"
    }
   ],
   "source": [
    "q=\"\"\"select workclass,avg(age) Avg,min(age) Min,max(age) max from adultData group by workclass\"\"\"\n",
    "#q=\"\"\"select count(*) from adultData where workclass='?'\"\"\"\n",
    "workclass = pd.read_sql(q, connection)\n",
    "workclass.head(10)"
   ]
  },
  {
   "cell_type": "code",
   "execution_count": 42,
   "metadata": {},
   "outputs": [],
   "source": [
    "# Question No 6\n",
    "# 6. Calculate age distribution by country"
   ]
  },
  {
   "cell_type": "code",
   "execution_count": 43,
   "metadata": {},
   "outputs": [
    {
     "data": {
      "text/html": [
       "<div>\n",
       "<style scoped>\n",
       "    .dataframe tbody tr th:only-of-type {\n",
       "        vertical-align: middle;\n",
       "    }\n",
       "\n",
       "    .dataframe tbody tr th {\n",
       "        vertical-align: top;\n",
       "    }\n",
       "\n",
       "    .dataframe thead th {\n",
       "        text-align: right;\n",
       "    }\n",
       "</style>\n",
       "<table border=\"1\" class=\"dataframe\">\n",
       "  <thead>\n",
       "    <tr style=\"text-align: right;\">\n",
       "      <th></th>\n",
       "      <th>native_country</th>\n",
       "      <th>Avg</th>\n",
       "      <th>Min</th>\n",
       "      <th>min</th>\n",
       "    </tr>\n",
       "  </thead>\n",
       "  <tbody>\n",
       "    <tr>\n",
       "      <th>0</th>\n",
       "      <td>?</td>\n",
       "      <td>38.725557</td>\n",
       "      <td>17</td>\n",
       "      <td>90</td>\n",
       "    </tr>\n",
       "    <tr>\n",
       "      <th>1</th>\n",
       "      <td>Cambodia</td>\n",
       "      <td>37.789474</td>\n",
       "      <td>18</td>\n",
       "      <td>65</td>\n",
       "    </tr>\n",
       "    <tr>\n",
       "      <th>2</th>\n",
       "      <td>Canada</td>\n",
       "      <td>42.545455</td>\n",
       "      <td>17</td>\n",
       "      <td>80</td>\n",
       "    </tr>\n",
       "    <tr>\n",
       "      <th>3</th>\n",
       "      <td>China</td>\n",
       "      <td>42.533333</td>\n",
       "      <td>22</td>\n",
       "      <td>75</td>\n",
       "    </tr>\n",
       "    <tr>\n",
       "      <th>4</th>\n",
       "      <td>Columbia</td>\n",
       "      <td>39.711864</td>\n",
       "      <td>18</td>\n",
       "      <td>75</td>\n",
       "    </tr>\n",
       "  </tbody>\n",
       "</table>\n",
       "</div>"
      ],
      "text/plain": [
       "  native_country        Avg  Min  min\n",
       "0              ?  38.725557   17   90\n",
       "1       Cambodia  37.789474   18   65\n",
       "2         Canada  42.545455   17   80\n",
       "3          China  42.533333   22   75\n",
       "4       Columbia  39.711864   18   75"
      ]
     },
     "execution_count": 43,
     "metadata": {},
     "output_type": "execute_result"
    }
   ],
   "source": [
    "q=\"\"\"select native_country,avg(age) Avg,min(age) Min, max(age) min from adultData group by native_country\"\"\"\n",
    "distribution_by_country= pd.read_sql(q, connection)\n",
    "distribution_by_country.head()"
   ]
  },
  {
   "cell_type": "code",
   "execution_count": 44,
   "metadata": {},
   "outputs": [],
   "source": [
    "# Question No 7\n",
    "# 7. Compute a new column as 'Net-Capital-Gain' from the two columns 'capital-gain' and 'capital-loss'"
   ]
  },
  {
   "cell_type": "code",
   "execution_count": 45,
   "metadata": {},
   "outputs": [
    {
     "data": {
      "text/html": [
       "<div>\n",
       "<style scoped>\n",
       "    .dataframe tbody tr th:only-of-type {\n",
       "        vertical-align: middle;\n",
       "    }\n",
       "\n",
       "    .dataframe tbody tr th {\n",
       "        vertical-align: top;\n",
       "    }\n",
       "\n",
       "    .dataframe thead th {\n",
       "        text-align: right;\n",
       "    }\n",
       "</style>\n",
       "<table border=\"1\" class=\"dataframe\">\n",
       "  <thead>\n",
       "    <tr style=\"text-align: right;\">\n",
       "      <th></th>\n",
       "      <th>capital_gain</th>\n",
       "      <th>capital_loss</th>\n",
       "      <th>Net_capital_Gain</th>\n",
       "    </tr>\n",
       "  </thead>\n",
       "  <tbody>\n",
       "    <tr>\n",
       "      <th>0</th>\n",
       "      <td>2174</td>\n",
       "      <td>0</td>\n",
       "      <td>2174</td>\n",
       "    </tr>\n",
       "    <tr>\n",
       "      <th>1</th>\n",
       "      <td>0</td>\n",
       "      <td>0</td>\n",
       "      <td>0</td>\n",
       "    </tr>\n",
       "    <tr>\n",
       "      <th>2</th>\n",
       "      <td>0</td>\n",
       "      <td>0</td>\n",
       "      <td>0</td>\n",
       "    </tr>\n",
       "    <tr>\n",
       "      <th>3</th>\n",
       "      <td>0</td>\n",
       "      <td>0</td>\n",
       "      <td>0</td>\n",
       "    </tr>\n",
       "    <tr>\n",
       "      <th>4</th>\n",
       "      <td>0</td>\n",
       "      <td>0</td>\n",
       "      <td>0</td>\n",
       "    </tr>\n",
       "  </tbody>\n",
       "</table>\n",
       "</div>"
      ],
      "text/plain": [
       "   capital_gain  capital_loss  Net_capital_Gain\n",
       "0          2174             0              2174\n",
       "1             0             0                 0\n",
       "2             0             0                 0\n",
       "3             0             0                 0\n",
       "4             0             0                 0"
      ]
     },
     "execution_count": 45,
     "metadata": {},
     "output_type": "execute_result"
    }
   ],
   "source": [
    "q=\"\"\"select capital_gain,capital_loss,(capital_gain+' '+capital_loss) Net_capital_Gain from adultData\"\"\"\n",
    "Net_Capital_Gain = pd.read_sql(q, connection)\n",
    "Net_Capital_Gain.head()"
   ]
  },
  {
   "cell_type": "markdown",
   "metadata": {},
   "source": [
    "# Task 2"
   ]
  },
  {
   "cell_type": "markdown",
   "metadata": {},
   "source": [
    "\n",
    "Read the following data set:\n",
    "https://archive.ics.uci.edu/ml/machine-learning-databases/adult/adult.data"
   ]
  },
  {
   "cell_type": "code",
   "execution_count": 53,
   "metadata": {},
   "outputs": [],
   "source": [
    "# Question No 1\n",
    "# 1. Create an sqlalchemy engine using a sample from the data set"
   ]
  },
  {
   "cell_type": "code",
   "execution_count": 54,
   "metadata": {},
   "outputs": [],
   "source": [
    "from sqlalchemy import create_engine\n",
    "engine = create_engine('sqlite:///sample', echo=True)"
   ]
  },
  {
   "cell_type": "code",
   "execution_count": 55,
   "metadata": {},
   "outputs": [
    {
     "name": "stdout",
     "output_type": "stream",
     "text": [
      "2018-07-31 22:30:41,982 INFO sqlalchemy.engine.base.Engine SELECT CAST('test plain returns' AS VARCHAR(60)) AS anon_1\n",
      "2018-07-31 22:30:42,001 INFO sqlalchemy.engine.base.Engine ()\n",
      "2018-07-31 22:30:42,008 INFO sqlalchemy.engine.base.Engine SELECT CAST('test unicode returns' AS VARCHAR(60)) AS anon_1\n",
      "2018-07-31 22:30:42,017 INFO sqlalchemy.engine.base.Engine ()\n"
     ]
    }
   ],
   "source": [
    "conn = engine.connect()"
   ]
  },
  {
   "cell_type": "code",
   "execution_count": 56,
   "metadata": {},
   "outputs": [
    {
     "name": "stdout",
     "output_type": "stream",
     "text": [
      "2018-07-31 22:31:17,413 INFO sqlalchemy.engine.base.Engine PRAGMA table_info(\"employee\")\n",
      "2018-07-31 22:31:17,425 INFO sqlalchemy.engine.base.Engine ()\n",
      "2018-07-31 22:31:17,441 INFO sqlalchemy.engine.base.Engine \n",
      "CREATE TABLE employee (\n",
      "\tid INTEGER NOT NULL, \n",
      "\tage INTEGER, \n",
      "\tworkclass VARCHAR, \n",
      "\tfnlwgt INTEGER, \n",
      "\teducation VARCHAR, \n",
      "\teducation_num INTEGER, \n",
      "\tmarital_status VARCHAR, \n",
      "\toccupation VARCHAR, \n",
      "\trelationship VARCHAR, \n",
      "\trasexce VARCHAR, \n",
      "\tsex VARCHAR, \n",
      "\tcapital_gain INTEGER, \n",
      "\tcapital_loss INTEGER, \n",
      "\thours_per_week INTEGER, \n",
      "\tnative_country VARCHAR, \n",
      "\tsalary VARCHAR, \n",
      "\tPRIMARY KEY (id)\n",
      ")\n",
      "\n",
      "\n",
      "2018-07-31 22:31:17,454 INFO sqlalchemy.engine.base.Engine ()\n",
      "2018-07-31 22:31:17,893 INFO sqlalchemy.engine.base.Engine COMMIT\n"
     ]
    }
   ],
   "source": [
    "from sqlalchemy import Table, Column, Integer, String, MetaData, ForeignKey\n",
    "metadata = MetaData()\n",
    "employee = Table('employee', metadata,\n",
    "              Column('id', Integer, primary_key=True),\n",
    "              Column('age', Integer),\n",
    "              Column('workclass', String),\n",
    "              Column('fnlwgt', Integer),\n",
    "              Column('education', String),\n",
    "              Column('education_num', Integer),\n",
    "              Column('marital_status', String),\n",
    "              Column('occupation', String),\n",
    "              Column('relationship', String),\n",
    "              Column('rasexce', String),\n",
    "              Column('sex', String),\n",
    "              Column('capital_gain', Integer),\n",
    "              Column('capital_loss', Integer),\n",
    "              Column('hours_per_week', Integer),\n",
    "              Column('native_country', String),\n",
    "              Column('salary', String),\n",
    ")\n",
    "metadata.create_all(engine)"
   ]
  },
  {
   "cell_type": "code",
   "execution_count": 57,
   "metadata": {},
   "outputs": [
    {
     "name": "stdout",
     "output_type": "stream",
     "text": [
      "2018-07-31 22:31:50,058 INFO sqlalchemy.engine.base.Engine INSERT INTO employee (id, age, workclass, fnlwgt, education, education_num, marital_status, occupation, relationship, rasexce, sex, capital_gain, capital_loss, hours_per_week, native_country, salary) VALUES (?, ?, ?, ?, ?, ?, ?, ?, ?, ?, ?, ?, ?, ?, ?, ?)\n",
      "2018-07-31 22:31:50,070 INFO sqlalchemy.engine.base.Engine (1, 39, 'State-gov', 77516, 'Bachelors', 13, 'Never-married', 'Adm-clerical', 'Not-in-family', 'white', 'Male', 2174, 0, 40, 'united-states', '<=50k')\n",
      "2018-07-31 22:31:50,091 INFO sqlalchemy.engine.base.Engine COMMIT\n",
      "2018-07-31 22:31:50,404 INFO sqlalchemy.engine.base.Engine INSERT INTO employee (id, age, workclass, fnlwgt, education, education_num, marital_status, occupation, relationship, rasexce, sex, capital_gain, capital_loss, hours_per_week, native_country, salary) VALUES (?, ?, ?, ?, ?, ?, ?, ?, ?, ?, ?, ?, ?, ?, ?, ?)\n",
      "2018-07-31 22:31:50,407 INFO sqlalchemy.engine.base.Engine (2, 50, 'Self-emp-not-inc', 83311, 'Bachelors', 13, 'Married-civ-spouse', 'Exec-managerial', 'Husband', 'white', 'Male', 0, 0, 13, 'united-states', '<=50k')\n",
      "2018-07-31 22:31:50,425 INFO sqlalchemy.engine.base.Engine COMMIT\n",
      "2018-07-31 22:31:50,704 INFO sqlalchemy.engine.base.Engine INSERT INTO employee (id, age, workclass, fnlwgt, education, education_num, marital_status, occupation, relationship, rasexce, sex, capital_gain, capital_loss, hours_per_week, native_country, salary) VALUES (?, ?, ?, ?, ?, ?, ?, ?, ?, ?, ?, ?, ?, ?, ?, ?)\n",
      "2018-07-31 22:31:50,714 INFO sqlalchemy.engine.base.Engine (3, 38, 'Private', 215646, 'HS-grad', 9, 'Divorced', 'Handlers-cleaners', 'Not-in-family', 'white', 'Male', 0, 0, 40, 'united-states', '<=50k')\n",
      "2018-07-31 22:31:50,749 INFO sqlalchemy.engine.base.Engine COMMIT\n"
     ]
    },
    {
     "data": {
      "text/plain": [
       "<sqlalchemy.engine.result.ResultProxy at 0x80eafb0>"
      ]
     },
     "execution_count": 57,
     "metadata": {},
     "output_type": "execute_result"
    }
   ],
   "source": [
    "ins1 = employee.insert().values(id=1, age=39,workclass='State-gov', fnlwgt=77516\n",
    "                               ,education='Bachelors', education_num=13,marital_status='Never-married', occupation='Adm-clerical'\n",
    "                            ,relationship='Not-in-family', rasexce='white',sex='Male', capital_gain=2174\n",
    "                              ,capital_loss=0, hours_per_week=40,native_country='united-states', salary='<=50k'\n",
    "                              )\n",
    "ins2 = employee.insert().values(id=2, age=50,workclass='Self-emp-not-inc', fnlwgt=83311\n",
    "                               ,education='Bachelors', education_num=13,marital_status='Married-civ-spouse', occupation='Exec-managerial'\n",
    "                              ,relationship='Husband', rasexce='white',sex='Male', capital_gain=0\n",
    "                              ,capital_loss=0, hours_per_week=13,native_country='united-states', salary='<=50k'\n",
    "                              )\n",
    "ins3 = employee.insert().values(id=3, age=38,workclass='Private', fnlwgt=215646\n",
    "                               ,education='HS-grad', education_num=9,marital_status='Divorced', occupation='Handlers-cleaners'\n",
    "                              ,relationship='Not-in-family', rasexce='white',sex='Male', capital_gain=0\n",
    "                              ,capital_loss=0, hours_per_week=40,native_country='united-states', salary='<=50k'\n",
    "                              )\n",
    "#str(ins1)\n",
    "#ins1.compile().params  # to view the data to be inserted\n",
    "conn.execute(ins1)\n",
    "conn.execute(ins2)\n",
    "conn.execute(ins3)"
   ]
  },
  {
   "cell_type": "code",
   "execution_count": 58,
   "metadata": {},
   "outputs": [
    {
     "name": "stdout",
     "output_type": "stream",
     "text": [
      "2018-07-31 22:32:16,346 INFO sqlalchemy.engine.base.Engine SELECT employee.id, employee.age, employee.workclass, employee.fnlwgt, employee.education, employee.education_num, employee.marital_status, employee.occupation, employee.relationship, employee.rasexce, employee.sex, employee.capital_gain, employee.capital_loss, employee.hours_per_week, employee.native_country, employee.salary \n",
      "FROM employee\n",
      "2018-07-31 22:32:16,352 INFO sqlalchemy.engine.base.Engine ()\n",
      "[(1, 39, 'State-gov', 77516, 'Bachelors', 13, 'Never-married', 'Adm-clerical', 'Not-in-family', 'white', 'Male', 2174, 0, 40, 'united-states', '<=50k'), (2, 50, 'Self-emp-not-inc', 83311, 'Bachelors', 13, 'Married-civ-spouse', 'Exec-managerial', 'Husband', 'white', 'Male', 0, 0, 13, 'united-states', '<=50k'), (3, 38, 'Private', 215646, 'HS-grad', 9, 'Divorced', 'Handlers-cleaners', 'Not-in-family', 'white', 'Male', 0, 0, 40, 'united-states', '<=50k')]\n"
     ]
    }
   ],
   "source": [
    "from sqlalchemy.sql import select\n",
    "s = select([employee])\n",
    "result = conn.execute(s)\n",
    "row = result.fetchall()\n",
    "print(row)"
   ]
  },
  {
   "cell_type": "code",
   "execution_count": 59,
   "metadata": {},
   "outputs": [],
   "source": [
    "# Question No 2\n",
    "# 2. Write two basic update queries"
   ]
  },
  {
   "cell_type": "code",
   "execution_count": 60,
   "metadata": {},
   "outputs": [
    {
     "name": "stdout",
     "output_type": "stream",
     "text": [
      "2018-07-31 22:33:20,114 INFO sqlalchemy.engine.base.Engine UPDATE employee SET age=? WHERE employee.id = ?\n",
      "2018-07-31 22:33:20,120 INFO sqlalchemy.engine.base.Engine (49, 1)\n",
      "2018-07-31 22:33:20,136 INFO sqlalchemy.engine.base.Engine COMMIT\n",
      "2018-07-31 22:33:20,489 INFO sqlalchemy.engine.base.Engine UPDATE employee SET marital_status=? WHERE employee.id = ?\n",
      "2018-07-31 22:33:20,492 INFO sqlalchemy.engine.base.Engine ('Married', 1)\n",
      "2018-07-31 22:33:20,507 INFO sqlalchemy.engine.base.Engine COMMIT\n"
     ]
    },
    {
     "data": {
      "text/plain": [
       "<sqlalchemy.engine.result.ResultProxy at 0x80d97d0>"
      ]
     },
     "execution_count": 60,
     "metadata": {},
     "output_type": "execute_result"
    }
   ],
   "source": [
    "from sqlalchemy import update\n",
    "\n",
    "a1= update(employee).where(employee.c.id==1).values(age=49)\n",
    "a2 = update(employee).where(employee.c.id==1).values(marital_status='Married')\n",
    "conn.execute(a1)\n",
    "conn.execute(a2)"
   ]
  },
  {
   "cell_type": "code",
   "execution_count": 61,
   "metadata": {},
   "outputs": [
    {
     "name": "stdout",
     "output_type": "stream",
     "text": [
      "2018-07-31 22:33:41,511 INFO sqlalchemy.engine.base.Engine SELECT employee.id, employee.age, employee.workclass, employee.fnlwgt, employee.education, employee.education_num, employee.marital_status, employee.occupation, employee.relationship, employee.rasexce, employee.sex, employee.capital_gain, employee.capital_loss, employee.hours_per_week, employee.native_country, employee.salary \n",
      "FROM employee\n",
      "2018-07-31 22:33:41,529 INFO sqlalchemy.engine.base.Engine ()\n",
      "[(1, 49, 'State-gov', 77516, 'Bachelors', 13, 'Married', 'Adm-clerical', 'Not-in-family', 'white', 'Male', 2174, 0, 40, 'united-states', '<=50k'), (2, 50, 'Self-emp-not-inc', 83311, 'Bachelors', 13, 'Married-civ-spouse', 'Exec-managerial', 'Husband', 'white', 'Male', 0, 0, 13, 'united-states', '<=50k'), (3, 38, 'Private', 215646, 'HS-grad', 9, 'Divorced', 'Handlers-cleaners', 'Not-in-family', 'white', 'Male', 0, 0, 40, 'united-states', '<=50k')]\n"
     ]
    }
   ],
   "source": [
    "s = select([employee])\n",
    "result = conn.execute(s)\n",
    "row = result.fetchall()\n",
    "print(row)"
   ]
  },
  {
   "cell_type": "code",
   "execution_count": 62,
   "metadata": {},
   "outputs": [],
   "source": [
    "# Question No 3\n",
    "# 3. Write two delete queries"
   ]
  },
  {
   "cell_type": "code",
   "execution_count": 63,
   "metadata": {},
   "outputs": [
    {
     "name": "stdout",
     "output_type": "stream",
     "text": [
      "2018-07-31 22:34:51,246 INFO sqlalchemy.engine.base.Engine DELETE FROM employee WHERE employee.id = ?\n",
      "2018-07-31 22:34:51,265 INFO sqlalchemy.engine.base.Engine (1,)\n",
      "2018-07-31 22:34:51,272 INFO sqlalchemy.engine.base.Engine COMMIT\n",
      "2018-07-31 22:34:51,657 INFO sqlalchemy.engine.base.Engine DELETE FROM employee WHERE employee.id = ?\n",
      "2018-07-31 22:34:51,678 INFO sqlalchemy.engine.base.Engine (2,)\n",
      "2018-07-31 22:34:51,713 INFO sqlalchemy.engine.base.Engine COMMIT\n"
     ]
    },
    {
     "data": {
      "text/plain": [
       "<sqlalchemy.engine.result.ResultProxy at 0x80eaab0>"
      ]
     },
     "execution_count": 63,
     "metadata": {},
     "output_type": "execute_result"
    }
   ],
   "source": [
    "a2=employee.delete().where(employee.c.id==1)\n",
    "a3=employee.delete().where(employee.c.id==2 and employee.c.sex=='Male')\n",
    "conn.execute(a2)\n",
    "conn.execute(a3)"
   ]
  },
  {
   "cell_type": "code",
   "execution_count": 64,
   "metadata": {},
   "outputs": [
    {
     "name": "stdout",
     "output_type": "stream",
     "text": [
      "2018-07-31 22:35:06,019 INFO sqlalchemy.engine.base.Engine SELECT employee.id, employee.age, employee.workclass, employee.fnlwgt, employee.education, employee.education_num, employee.marital_status, employee.occupation, employee.relationship, employee.rasexce, employee.sex, employee.capital_gain, employee.capital_loss, employee.hours_per_week, employee.native_country, employee.salary \n",
      "FROM employee\n",
      "2018-07-31 22:35:06,036 INFO sqlalchemy.engine.base.Engine ()\n",
      "[(3, 38, 'Private', 215646, 'HS-grad', 9, 'Divorced', 'Handlers-cleaners', 'Not-in-family', 'white', 'Male', 0, 0, 40, 'united-states', '<=50k')]\n"
     ]
    }
   ],
   "source": [
    "s = select([employee])\n",
    "result = conn.execute(s)\n",
    "row = result.fetchall()\n",
    "print(row)"
   ]
  },
  {
   "cell_type": "code",
   "execution_count": 65,
   "metadata": {},
   "outputs": [],
   "source": [
    "# Question No 4\n",
    "# 4. Write two filter queries"
   ]
  },
  {
   "cell_type": "code",
   "execution_count": 66,
   "metadata": {},
   "outputs": [],
   "source": [
    "from sqlalchemy.orm import sessionmaker\n",
    "Session = sessionmaker(bind=engine)\n",
    "session = Session()"
   ]
  },
  {
   "cell_type": "code",
   "execution_count": 67,
   "metadata": {},
   "outputs": [
    {
     "name": "stdout",
     "output_type": "stream",
     "text": [
      "2018-07-31 22:36:18,838 INFO sqlalchemy.engine.base.Engine BEGIN (implicit)\n",
      "2018-07-31 22:36:18,858 INFO sqlalchemy.engine.base.Engine SELECT employee.id AS employee_id, employee.age AS employee_age, employee.workclass AS employee_workclass, employee.fnlwgt AS employee_fnlwgt, employee.education AS employee_education, employee.education_num AS employee_education_num, employee.marital_status AS employee_marital_status, employee.occupation AS employee_occupation, employee.relationship AS employee_relationship, employee.rasexce AS employee_rasexce, employee.sex AS employee_sex, employee.capital_gain AS employee_capital_gain, employee.capital_loss AS employee_capital_loss, employee.hours_per_week AS employee_hours_per_week, employee.native_country AS employee_native_country, employee.salary AS employee_salary \n",
      "FROM employee \n",
      "WHERE employee.id = ?\n",
      " LIMIT ? OFFSET ?\n",
      "2018-07-31 22:36:18,864 INFO sqlalchemy.engine.base.Engine ('Male', 1, 0)\n",
      "2018-07-31 22:36:18,879 INFO sqlalchemy.engine.base.Engine SELECT employee.id AS employee_id, employee.age AS employee_age, employee.workclass AS employee_workclass, employee.fnlwgt AS employee_fnlwgt, employee.education AS employee_education, employee.education_num AS employee_education_num, employee.marital_status AS employee_marital_status, employee.occupation AS employee_occupation, employee.relationship AS employee_relationship, employee.rasexce AS employee_rasexce, employee.sex AS employee_sex, employee.capital_gain AS employee_capital_gain, employee.capital_loss AS employee_capital_loss, employee.hours_per_week AS employee_hours_per_week, employee.native_country AS employee_native_country, employee.salary AS employee_salary \n",
      "FROM employee \n",
      "WHERE employee.hours_per_week = ?\n",
      " LIMIT ? OFFSET ?\n",
      "2018-07-31 22:36:18,889 INFO sqlalchemy.engine.base.Engine (45, 1, 0)\n"
     ]
    }
   ],
   "source": [
    "a2 = session.query(employee).filter(employee.c.id=='Male').first()\n",
    "a3 = session.query(employee).filter(employee.c.hours_per_week==45).first()"
   ]
  },
  {
   "cell_type": "code",
   "execution_count": 68,
   "metadata": {},
   "outputs": [],
   "source": [
    "# Question No 5\n",
    "# 5. Write two function queries"
   ]
  },
  {
   "cell_type": "code",
   "execution_count": 69,
   "metadata": {},
   "outputs": [
    {
     "name": "stdout",
     "output_type": "stream",
     "text": [
      "2018-07-31 22:37:02,104 INFO sqlalchemy.engine.base.Engine SELECT count(?) AS count_1 \n",
      "FROM employee\n",
      "2018-07-31 22:37:02,111 INFO sqlalchemy.engine.base.Engine ('*',)\n",
      "2018-07-31 22:37:02,130 INFO sqlalchemy.engine.base.Engine SELECT count(employee.id) AS count_1 \n",
      "FROM employee\n",
      "2018-07-31 22:37:02,139 INFO sqlalchemy.engine.base.Engine ()\n",
      "1\n",
      "1\n"
     ]
    }
   ],
   "source": [
    "from sqlalchemy import func\n",
    "a2 = session.query(func.count('*')).select_from(employee).scalar()\n",
    "a3 = session.query(func.count(employee.c.id)).scalar()\n",
    "print(a2)\n",
    "print(a3)"
   ]
  }
 ],
 "metadata": {
  "kernelspec": {
   "display_name": "Python 3",
   "language": "python",
   "name": "python3"
  },
  "language_info": {
   "codemirror_mode": {
    "name": "ipython",
    "version": 3
   },
   "file_extension": ".py",
   "mimetype": "text/x-python",
   "name": "python",
   "nbconvert_exporter": "python",
   "pygments_lexer": "ipython3",
   "version": "3.6.4"
  }
 },
 "nbformat": 4,
 "nbformat_minor": 2
}
